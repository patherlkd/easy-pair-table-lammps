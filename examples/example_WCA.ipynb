{
 "cells": [
  {
   "cell_type": "markdown",
   "metadata": {},
   "source": [
    "# Introduction and Initialization"
   ]
  },
  {
   "cell_type": "code",
   "execution_count": 1,
   "metadata": {},
   "outputs": [
    {
     "name": "stdout",
     "output_type": "stream",
     "text": [
      "eptl: v v2.2.0\n",
      "3.367386144928119 10.102158434784357\n"
     ]
    }
   ],
   "source": [
    "\n",
    "import os\n",
    "import warnings\n",
    "warnings.simplefilter('ignore')\n",
    "\n",
    "import eptl\n",
    "import eptl.create_lammps_pairstyle_table as clpt # functions to create and test tabulated pair potential\n",
    "clpt.set_plot_rcparams()\n",
    "\n",
    "# Set your lammps executable\n",
    "#from eptl.create_lammps_pairstyle_table import LmpExec\n",
    "#Lmp = LmpExec()\n",
    "#Lmp.change_exec(\"/path/to/your/lammps/executable/lmp\")\n",
    "\n",
    "print(\"eptl: v\",eptl.__version__)\n",
    "\n",
    "# Write Settings\n",
    "folderToUse = \"tables/\"\n",
    "os.system(\"mkdir -p \"+folderToUse)\n",
    "pair_filename = folderToUse+\"Example_pair_WCA.txt\"\n",
    "pair_keyword = \"WCA\"\n",
    "\n",
    "lmps_input_filename = folderToUse+\"in.Example_lmps_pair_WCA\"\n",
    "lmps_pair_filename = folderToUse+\"Example_lmps_pair_WCA.txt\"\n",
    "diff_filename = folderToUse+\"comparison_rel_difference\"\n",
    "\n",
    "# LAMMPS Settings\n",
    "units_string = \"lj\"\n",
    "\n",
    "# Pair-Style Parameters\n",
    "eps = 10.0\n",
    "sigma = 3.0\n",
    "rc = 2**(1.0/6.0)*sigma\n",
    "\n",
    "# Pair-Style Settings\n",
    "rmin = 0.5 # minimum distance\n",
    "rmax = 3 * rc # maximum distance\n",
    "N = 2000 # number of distance values between rmin and rmax to use\n",
    "\n",
    "print( rc, rmax)"
   ]
  },
  {
   "cell_type": "markdown",
   "metadata": {},
   "source": [
    "# Create Table"
   ]
  },
  {
   "cell_type": "code",
   "execution_count": 2,
   "metadata": {},
   "outputs": [],
   "source": [
    "clpt.make_table_for_lammps(\n",
    "    pair_filename, pair_keyword, rmin, rmax, N, args=(eps, sigma, rc)\n",
    ")"
   ]
  },
  {
   "cell_type": "markdown",
   "metadata": {},
   "source": [
    "# Run Table Through LAMMPS"
   ]
  },
  {
   "cell_type": "code",
   "execution_count": 3,
   "metadata": {},
   "outputs": [],
   "source": [
    "# get lammps to pair_write the potential energy and force for comparison\n",
    "clpt.pair_write_lammps(\n",
    "    lmps_input_filename, lmps_pair_filename, pair_filename, units_string, rc=rmax,\n",
    ")"
   ]
  },
  {
   "cell_type": "code",
   "execution_count": 4,
   "metadata": {},
   "outputs": [],
   "source": [
    "# Compare the data in files visually\n",
    "\n",
    "pairmin, pairmax = -1, 20\n",
    "forcemin, forcemax = -5, 20\n",
    "clpt.comparison(\n",
    "    plot_filename, lmps_pair_filename, pair_filename, markers=False,\n",
    "    rlim=(rmin, rmax/2), \n",
    "    plim=(pairmin, pairmax), flim=(forcemin, forcemax),\n",
    ") "
   ]
  }
 ],
 "metadata": {
  "kernelspec": {
   "display_name": "mosdef-dev",
   "language": "python",
   "name": "python3"
  },
  "language_info": {
   "codemirror_mode": {
    "name": "ipython",
    "version": 3
   },
   "file_extension": ".py",
   "mimetype": "text/x-python",
   "name": "python",
   "nbconvert_exporter": "python",
   "pygments_lexer": "ipython3",
   "version": "3.8.15"
  }
 },
 "nbformat": 4,
 "nbformat_minor": 2
}
